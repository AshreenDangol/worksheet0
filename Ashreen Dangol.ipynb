{
 "cells": [
  {
   "cell_type": "code",
   "execution_count": null,
   "metadata": {
    "trusted": true
   },
   "outputs": [
    {
     "name": "stdout",
     "output_type": "stream",
     "text": [
      "[8.2, 5, 3.8, 2, 1.4] [14, 15, 12.3, 14.5] [16, 17]\n",
      "4 2 5\n",
      "[46.76]\n",
      "[41.0]\n",
      "[107.6]\n",
      "[38.839999999999996]\n",
      "[114.08000000000001]\n",
      "[35.6]\n",
      "[89.6]\n",
      "[57.2]\n",
      "[59.0]\n",
      "[60.8]\n",
      "[62.6]\n",
      "[54.14]\n",
      "[34.52]\n",
      "[58.1]\n",
      "[167.72]\n",
      "[5, 3.8, 2, 1.4] [8.2, 14, 15, 16, 12.3, 14.5] [42, 45.6, 32, 17, 75.4]\n",
      "42.4\n"
     ]
    }
   ],
   "source": [
    "# TASK 1 \n",
    "\n",
    "COLD = [ ];\n",
    "MILD = [];\n",
    "COMFORT = [];\n",
    "\n",
    "temperatures = [8.2,5,42,3.8,45.6,2,32,14,15,16,17,12.3,1.4,14.5,75.4]\n",
    "\n",
    "for temperature in temperatures:\n",
    "    if temperature < 10:\n",
    "        COLD.append(temperature)\n",
    "    elif 10 <= temperature <=15:\n",
    "        MILD.append(temperature)\n",
    "    elif 15 <= temperature <= 20:\n",
    "        COMFORT.append(temperature)\n",
    "        \n",
    "print(COLD, MILD, COMFORT)\n",
    "\n",
    "\n",
    "# TASK2\n",
    "\n",
    "mildCount = len(MILD)\n",
    "comfortCount = len(COMFORT)\n",
    "coldCount = len(COLD)\n",
    "\n",
    "print(mildCount, comfortCount, coldCount)\n",
    "\n",
    "\n",
    "# TASK 3/\n",
    "\n",
    "for temperature in temperatures:\n",
    "    \n",
    "\n",
    "    \n",
    "    Farenheit =(temperature* 9/5)+32 \n",
    "    Result = []\n",
    "    Result.append(Farenheit)\n",
    "    \n",
    "    print(Result)\n",
    "\n",
    "\n",
    "# TASK4\n",
    "Day= []\n",
    "Evening= []\n",
    "Night= []\n",
    "\n",
    "for time in temperatures:\n",
    "    if time <= 8:\n",
    "        Night.append(time)\n",
    "    elif 8 <= time <= 16:\n",
    "        Evening.append(time)\n",
    "    elif 16 <= 24:\n",
    "        Day.append(time)\n",
    "\n",
    "print(Night, Evening, Day)\n",
    "\n",
    "# for average day calculation\n",
    "averageDay = sum(Day)/len(Day)\n",
    "\n",
    "print(averageDay)"
   ]
  },
  {
   "cell_type": "code",
   "execution_count": 64,
   "metadata": {
    "trusted": true
   },
   "outputs": [
    {
     "name": "stdout",
     "output_type": "stream",
     "text": [
      "154\n",
      "['acb', 'cab', 'abc', 'cba', 'bac', 'bca']\n"
     ]
    }
   ],
   "source": [
    "                                    # RECURSION\n",
    "# TASK 1\n",
    "\n",
    "\n",
    "def sum_nested_list(nested_list):\n",
    "    totalNum = 0\n",
    "    \n",
    "    for item in nested_list:\n",
    "        if isinstance(item, list):\n",
    "            totalNum += sum_nested_list(item)\n",
    "        else:\n",
    "            totalNum += item\n",
    "    return totalNum \n",
    "nested_list=[2,[4,7],67,[3,0],56,7,8]\n",
    "result = sum_nested_list(nested_list)\n",
    "print(result)\n",
    "\n",
    "\n",
    "# TASK 2\n",
    "\n",
    "def generate_permutations(s):\n",
    "    if len(s) == 1:\n",
    "        return[s]\n",
    "\n",
    "    permutations = [] \n",
    "    for i in range(len(s)):\n",
    "        remaining = s[:i] + s[i+1:]\n",
    "        for permu in generate_permutations(remaining):\n",
    "            permutations.append(s[i] + permu)\n",
    "\n",
    "    return list(permutations)\n",
    "\n",
    "print(generate_permutations(\"abc\"))\n",
    "\n"
   ]
  },
  {
   "cell_type": "code",
   "execution_count": 66,
   "metadata": {
    "trusted": true
   },
   "outputs": [
    {
     "name": "stdout",
     "output_type": "stream",
     "text": [
      "The total size of the directory is: 1400 KB\n"
     ]
    }
   ],
   "source": [
    "# TASK 3\n",
    "\n",
    "def calculate_directory_size(directory):\n",
    "    total = 0\n",
    "    for key,value in directory.items():\n",
    "        if isinstance(value,dict): \n",
    "            total +=calculate_directory_size(value) \n",
    "        else:\n",
    "            total+= value\n",
    "    return total\n",
    "\n",
    "#from sample \n",
    "\n",
    "directory = {\n",
    "    \"file1.txt\": 200,\n",
    "    \"file2.txt\": 300,\n",
    "    \"subdir1\": {\n",
    "        \"file3.txt\": 400,\n",
    "        \"file4.txt\": 100\n",
    "    },\n",
    "    \"subdir2\": {\n",
    "        \"subsubdir1\": {\n",
    "            \"file5.txt\": 250\n",
    "        },\n",
    "        \"file6.txt\": 150\n",
    "    }\n",
    "}\n",
    "totalSize = calculate_directory_size(directory)\n",
    "print(f\"The total size of the directory is: {totalSize} KB\")"
   ]
  },
  {
   "cell_type": "code",
   "execution_count": null,
   "metadata": {
    "trusted": true
   },
   "outputs": [
    {
     "name": "stdout",
     "output_type": "stream",
     "text": [
      "Minimum coins needed are: 3\n",
      "length of lcs are: 3\n",
      "max value is : 9\n"
     ]
    }
   ],
   "source": [
    "                                #Dynamic programming\n",
    "\n",
    "#task 1 \n",
    "def min_coins(coins, amount):\n",
    "    dp = [float('inf')] * (amount + 1)\n",
    "    dp[0] = 0\n",
    "\n",
    "    for coin in coins:\n",
    "        for i in range(coin, amount + 1):\n",
    "            dp[i] = min(dp[i], dp[i - coin] + 1)\n",
    "    \n",
    "    return dp[amount] if dp[amount] != float('inf') else -1\n",
    "\n",
    "coins = [1, 2, 5]\n",
    "amount = 11\n",
    "result = min_coins(coins, amount)\n",
    "print(f\"Minimum coins needed are: {result}\")\n",
    "\n",
    "\n",
    "#task 2\n",
    "\n",
    "def longest_common_subsequence(s1, s2):\n",
    "   \n",
    "    dp = [[0] * (len(s2) + 1) for _ in range(len(s1) + 1)]\n",
    "\n",
    "    for i in range(1, len(s1) + 1):\n",
    "        for j in range(1, len(s2) + 1):\n",
    "            if s1[i - 1] == s2[j - 1]:  \n",
    "                dp[i][j] = dp[i - 1][j - 1] + 1\n",
    "            else: \n",
    "                dp[i][j] = max(dp[i - 1][j], dp[i][j - 1])\n",
    "\n",
    "    return dp[len(s1)][len(s2)]\n",
    "\n",
    "s1 = \"abcde\"\n",
    "s2 = \"ace\"\n",
    "result = longest_common_subsequence(s1, s2)\n",
    "print(f\"length of lcs are: {result}\")\n",
    "\n",
    "\n",
    "#task3\n",
    "def knapsack(weights, values, capacity):\n",
    "    n = len(weights)\n",
    "    dp = [[0] * (capacity + 1) for _ in range(n + 1)]\n",
    "    for i in range(1, n + 1): \n",
    "        for w in range(1, capacity + 1):  \n",
    "            if weights[i - 1] <= w:  \n",
    "                dp[i][w] = max(dp[i - 1][w], dp[i - 1][w - weights[i - 1]] + values[i - 1])\n",
    "            else:\n",
    "                dp[i][w] = dp[i - 1][w]\n",
    "    return dp[n][capacity] \n",
    "    \n",
    "#testing with example \n",
    "weights = [1, 3, 4, 5]\n",
    "values = [1, 4, 5, 7]\n",
    "capacity = 7\n",
    "result = knapsack(weights, values, capacity)\n",
    "print(f\"max value is : {result}\")\n"
   ]
  },
  {
   "cell_type": "code",
   "execution_count": null,
   "metadata": {
    "trusted": true
   },
   "outputs": [],
   "source": []
  }
 ],
 "metadata": {
  "kernelspec": {
   "display_name": "Python (Pyodide)",
   "language": "python",
   "name": "python"
  },
  "language_info": {
   "codemirror_mode": {
    "name": "python",
    "version": 3
   },
   "file_extension": ".py",
   "mimetype": "text/x-python",
   "name": "python",
   "nbconvert_exporter": "python",
   "pygments_lexer": "ipython3",
   "version": "3.8"
  }
 },
 "nbformat": 4,
 "nbformat_minor": 4
}
